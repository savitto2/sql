{
 "cells": [
  {
   "cell_type": "code",
   "execution_count": 19,
   "metadata": {},
   "outputs": [],
   "source": [
    "import pandas as pd\n",
    "import snowflake.connector"
   ]
  },
  {
   "cell_type": "code",
   "execution_count": 16,
   "metadata": {},
   "outputs": [],
   "source": [
    "conn = snowflake.connector.connect(\n",
    "    user='savitto',\n",
    "    password='Pamlico1!',\n",
    "    account='lyoqhcb-bqa77792',\n",
    "    warehouse='COMPUTE_WH',\n",
    "    database='MAIN',\n",
    "    schema='FETCH'\n",
    ")"
   ]
  },
  {
   "cell_type": "code",
   "execution_count": 24,
   "metadata": {},
   "outputs": [],
   "source": [
    "users_query = \"SELECT * FROM users\"\n",
    "transactions_query = \"SELECT * FROM transaction\"\n",
    "products_query = \"SELECT * FROM products\""
   ]
  },
  {
   "cell_type": "code",
   "execution_count": 32,
   "metadata": {},
   "outputs": [
    {
     "name": "stderr",
     "output_type": "stream",
     "text": [
      "/var/folders/37/dmml8wys0vn_pnxmz63mpv2m0000gn/T/ipykernel_1176/704931430.py:2: UserWarning: pandas only supports SQLAlchemy connectable (engine/connection) or database string URI or sqlite3 DBAPI2 connection. Other DBAPI2 objects are not tested. Please consider using SQLAlchemy.\n",
      "  users_df = pd.read_sql(users_query, conn)\n",
      "/var/folders/37/dmml8wys0vn_pnxmz63mpv2m0000gn/T/ipykernel_1176/704931430.py:3: UserWarning: pandas only supports SQLAlchemy connectable (engine/connection) or database string URI or sqlite3 DBAPI2 connection. Other DBAPI2 objects are not tested. Please consider using SQLAlchemy.\n",
      "  transactions_df = pd.read_sql(transactions_query, conn)\n",
      "/var/folders/37/dmml8wys0vn_pnxmz63mpv2m0000gn/T/ipykernel_1176/704931430.py:4: UserWarning: pandas only supports SQLAlchemy connectable (engine/connection) or database string URI or sqlite3 DBAPI2 connection. Other DBAPI2 objects are not tested. Please consider using SQLAlchemy.\n",
      "  products_df = pd.read_sql(products_query, conn)\n"
     ]
    },
    {
     "name": "stdout",
     "output_type": "stream",
     "text": [
      "               CATEGORY_1                                CATEGORY_2  \\\n",
      "0              CATEGORY_1                                CATEGORY_2   \n",
      "1       Health & Wellness                             Sexual Health   \n",
      "2                  Snacks                             Puffed Snacks   \n",
      "3       Health & Wellness                                 Hair Care   \n",
      "4       Health & Wellness                                 Oral Care   \n",
      "...                   ...                                       ...   \n",
      "845548  Health & Wellness  Topical Muscle & Joint Relief Treatments   \n",
      "845549             Snacks                                   Cookies   \n",
      "845550             Snacks                                     Candy   \n",
      "845551             Snacks                              Nuts & Seeds   \n",
      "845552  Health & Wellness                                 First Aid   \n",
      "\n",
      "                         CATEGORY_3  CATEGORY_4              MANUFACTURER  \\\n",
      "0                        CATEGORY_3  CATEGORY_4              MANUFACTURER   \n",
      "1       Conductivity Gels & Lotions        None                      None   \n",
      "2              Cheese Curls & Puffs        None                      None   \n",
      "3             Hair Care Accessories        None  PLACEHOLDER MANUFACTURER   \n",
      "4                        Toothpaste        None         COLGATE-PALMOLIVE   \n",
      "...                             ...         ...                       ...   \n",
      "845548               Braces & Wraps        None                      None   \n",
      "845549                         None        None     TREEHOUSE FOODS, INC.   \n",
      "845550             Confection Candy        None       HARIBO GMBH & CO KG   \n",
      "845551                    Hazelnuts        None            DOUBLE-COLA CO   \n",
      "845552               First Aid Kits        None                        3M   \n",
      "\n",
      "            BRAND       BARCODE  \n",
      "0           BRAND       BARCODE  \n",
      "1            None  796494407820  \n",
      "2            None  023278011028  \n",
      "3         ELECSOP  461817824225  \n",
      "4         COLGATE  035000466815  \n",
      "...           ...           ...  \n",
      "845548       None  722301569399  \n",
      "845549  LOFTHOUSE  041820818468  \n",
      "845550     HARIBO  100167154940  \n",
      "845551      JUMBO  075390755960  \n",
      "845552    NEXCARE  796793337781  \n",
      "\n",
      "[845553 rows x 7 columns]\n"
     ]
    }
   ],
   "source": [
    "# Execute the query and fetch the data into a DataFrame\n",
    "users_df = pd.read_sql(users_query, conn)\n",
    "transactions_df = pd.read_sql(transactions_query, conn)\n",
    "products_df = pd.read_sql(products_query, conn)\n",
    "\n",
    "# Display the DataFrame\n",
    "print(products_df)"
   ]
  }
 ],
 "metadata": {
  "kernelspec": {
   "display_name": "myenv",
   "language": "python",
   "name": "python3"
  },
  "language_info": {
   "codemirror_mode": {
    "name": "ipython",
    "version": 3
   },
   "file_extension": ".py",
   "mimetype": "text/x-python",
   "name": "python",
   "nbconvert_exporter": "python",
   "pygments_lexer": "ipython3",
   "version": "3.13.1"
  }
 },
 "nbformat": 4,
 "nbformat_minor": 2
}
